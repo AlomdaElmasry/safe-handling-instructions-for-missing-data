{
 "cells": [
  {
   "cell_type": "markdown",
   "metadata": {},
   "source": [
    "# Case Study for \"Safe handling instructions for missing data\"\n",
    "\n",
    "This notebook uses Scott Cole's burrito dataset, presented during a lightning talk at [SciPy 2017](https://conference.scipy.org/scipy2017), licensed under MIT, available [here](https://github.com/srcole/burritos)."
   ]
  },
  {
   "cell_type": "code",
   "execution_count": 1,
   "metadata": {
    "collapsed": true
   },
   "outputs": [],
   "source": [
    "import os\n",
    "\n",
    "from impyute.imputations.cs import em\n",
    "import matplotlib.pyplot as plt\n",
    "import numpy as np\n",
    "import pandas as pd\n",
    "import seaborn as sns\n",
    "from sklearn.model_selection import train_test_split\n",
    "from sklearn.preprocessing import Imputer\n",
    "from sklearn.pipeline import Pipeline\n",
    "from sklearn.svm import SVR\n",
    "from sklearn.tree import DecisionTreeRegressor\n",
    "\n",
    "%matplotlib inline\n",
    "\n",
    "pd.set_option('display.max_rows', 50)\n",
    "plt.rcParams['figure.figsize'] = (8, 5)\n",
    "data_dir = 'data'\n",
    "img_dir = 'img'\n",
    "np.random.seed(0)\n",
    "\n",
    "burrito = pd.read_excel(os.path.join(data_dir, 'burrito.xlsx'))"
   ]
  },
  {
   "cell_type": "markdown",
   "metadata": {},
   "source": [
    "We're defining two helper functions here: one to recode the ingredients from `nan`/`'x'` into `0`/`1`, and another that we are going to use to scale the Likert scores for individual raters (which are known to vary wildly between raters, and are more reliable when normalized per rater)."
   ]
  },
  {
   "cell_type": "code",
   "execution_count": 2,
   "metadata": {
    "collapsed": true
   },
   "outputs": [],
   "source": [
    "def fix_binaries(value):\n",
    "    if str(value).lower().strip() == 'x':\n",
    "        return 1\n",
    "    else:\n",
    "        return 0\n",
    "    \n",
    "def scale(series):\n",
    "    return (series - series.mean()) / series.std()"
   ]
  },
  {
   "cell_type": "code",
   "execution_count": 3,
   "metadata": {},
   "outputs": [],
   "source": [
    "ranking_names = ['Cost', 'Meat', 'Uniformity', 'Salsa', 'Wrap', 'overall']\n",
    "ingredient_names = ['Beef', 'Pico', 'Guac', 'Cheese', 'Sour cream', 'Pork', 'Chicken', \n",
    "               'Shrimp','Fish', 'Rice', 'Beans', 'Lettuce', 'Tomato', 'Carrots', \n",
    "               'Cabbage', 'Sauce', 'Cilantro', 'Onion', 'Taquito', 'Pineapple', 'Ham', \n",
    "                'Nopales', 'Lobster', 'Queso', 'Egg', 'Mushroom', \n",
    "                'Avocado', 'Corn', 'Zucchini']"
   ]
  },
  {
   "cell_type": "markdown",
   "metadata": {},
   "source": [
    "We're grabbing only the reviewers who have posted enough reviews that we can reliaby rescale them."
   ]
  },
  {
   "cell_type": "code",
   "execution_count": 4,
   "metadata": {
    "collapsed": true
   },
   "outputs": [],
   "source": [
    "n_reviews = burrito.groupby('Reviewer')['Cost'].count()\n",
    "n_reviews = n_reviews[n_reviews >= 10]\n",
    "burrito = burrito.loc[burrito.Reviewer.isin(n_reviews.index)]\n",
    "rankings = burrito.groupby('Reviewer')[ranking_names].transform(scale)"
   ]
  },
  {
   "cell_type": "code",
   "execution_count": 5,
   "metadata": {},
   "outputs": [
    {
     "name": "stdout",
     "output_type": "stream",
     "text": [
      "(231, 35)\n"
     ]
    },
    {
     "data": {
      "text/html": [
       "<div>\n",
       "<style>\n",
       "    .dataframe thead tr:only-child th {\n",
       "        text-align: right;\n",
       "    }\n",
       "\n",
       "    .dataframe thead th {\n",
       "        text-align: left;\n",
       "    }\n",
       "\n",
       "    .dataframe tbody tr th {\n",
       "        vertical-align: top;\n",
       "    }\n",
       "</style>\n",
       "<table border=\"1\" class=\"dataframe\">\n",
       "  <thead>\n",
       "    <tr style=\"text-align: right;\">\n",
       "      <th></th>\n",
       "      <th>Cost</th>\n",
       "      <th>Meat</th>\n",
       "      <th>Uniformity</th>\n",
       "      <th>Salsa</th>\n",
       "      <th>Wrap</th>\n",
       "      <th>overall</th>\n",
       "      <th>Beef</th>\n",
       "      <th>Pico</th>\n",
       "      <th>Guac</th>\n",
       "      <th>Cheese</th>\n",
       "      <th>...</th>\n",
       "      <th>Pineapple</th>\n",
       "      <th>Ham</th>\n",
       "      <th>Nopales</th>\n",
       "      <th>Lobster</th>\n",
       "      <th>Queso</th>\n",
       "      <th>Egg</th>\n",
       "      <th>Mushroom</th>\n",
       "      <th>Avocado</th>\n",
       "      <th>Corn</th>\n",
       "      <th>Zucchini</th>\n",
       "    </tr>\n",
       "  </thead>\n",
       "  <tbody>\n",
       "    <tr>\n",
       "      <th>0</th>\n",
       "      <td>-0.354733</td>\n",
       "      <td>-0.542106</td>\n",
       "      <td>0.687965</td>\n",
       "      <td>0.955789</td>\n",
       "      <td>0.108080</td>\n",
       "      <td>0.427646</td>\n",
       "      <td>1</td>\n",
       "      <td>1</td>\n",
       "      <td>1</td>\n",
       "      <td>1</td>\n",
       "      <td>...</td>\n",
       "      <td>0</td>\n",
       "      <td>0</td>\n",
       "      <td>0</td>\n",
       "      <td>0</td>\n",
       "      <td>0</td>\n",
       "      <td>0</td>\n",
       "      <td>0</td>\n",
       "      <td>0</td>\n",
       "      <td>0</td>\n",
       "      <td>0</td>\n",
       "    </tr>\n",
       "    <tr>\n",
       "      <th>1</th>\n",
       "      <td>-0.878739</td>\n",
       "      <td>-1.206906</td>\n",
       "      <td>0.687965</td>\n",
       "      <td>0.365796</td>\n",
       "      <td>0.926145</td>\n",
       "      <td>-0.725368</td>\n",
       "      <td>1</td>\n",
       "      <td>1</td>\n",
       "      <td>1</td>\n",
       "      <td>1</td>\n",
       "      <td>...</td>\n",
       "      <td>0</td>\n",
       "      <td>0</td>\n",
       "      <td>0</td>\n",
       "      <td>0</td>\n",
       "      <td>0</td>\n",
       "      <td>0</td>\n",
       "      <td>0</td>\n",
       "      <td>0</td>\n",
       "      <td>0</td>\n",
       "      <td>0</td>\n",
       "    </tr>\n",
       "    <tr>\n",
       "      <th>2</th>\n",
       "      <td>-1.493409</td>\n",
       "      <td>-1.524034</td>\n",
       "      <td>0.681981</td>\n",
       "      <td>-0.226181</td>\n",
       "      <td>0.801869</td>\n",
       "      <td>-0.815564</td>\n",
       "      <td>0</td>\n",
       "      <td>1</td>\n",
       "      <td>1</td>\n",
       "      <td>0</td>\n",
       "      <td>...</td>\n",
       "      <td>0</td>\n",
       "      <td>0</td>\n",
       "      <td>0</td>\n",
       "      <td>0</td>\n",
       "      <td>0</td>\n",
       "      <td>0</td>\n",
       "      <td>0</td>\n",
       "      <td>0</td>\n",
       "      <td>0</td>\n",
       "      <td>0</td>\n",
       "    </tr>\n",
       "    <tr>\n",
       "      <th>3</th>\n",
       "      <td>-1.356262</td>\n",
       "      <td>-0.144338</td>\n",
       "      <td>1.085921</td>\n",
       "      <td>0.395285</td>\n",
       "      <td>0.874033</td>\n",
       "      <td>0.112648</td>\n",
       "      <td>1</td>\n",
       "      <td>1</td>\n",
       "      <td>1</td>\n",
       "      <td>0</td>\n",
       "      <td>...</td>\n",
       "      <td>0</td>\n",
       "      <td>0</td>\n",
       "      <td>0</td>\n",
       "      <td>0</td>\n",
       "      <td>0</td>\n",
       "      <td>0</td>\n",
       "      <td>0</td>\n",
       "      <td>0</td>\n",
       "      <td>0</td>\n",
       "      <td>0</td>\n",
       "    </tr>\n",
       "    <tr>\n",
       "      <th>4</th>\n",
       "      <td>-0.304348</td>\n",
       "      <td>0.787495</td>\n",
       "      <td>1.585025</td>\n",
       "      <td>-0.814190</td>\n",
       "      <td>0.108080</td>\n",
       "      <td>1.004154</td>\n",
       "      <td>1</td>\n",
       "      <td>1</td>\n",
       "      <td>0</td>\n",
       "      <td>1</td>\n",
       "      <td>...</td>\n",
       "      <td>0</td>\n",
       "      <td>0</td>\n",
       "      <td>0</td>\n",
       "      <td>0</td>\n",
       "      <td>0</td>\n",
       "      <td>0</td>\n",
       "      <td>0</td>\n",
       "      <td>0</td>\n",
       "      <td>0</td>\n",
       "      <td>0</td>\n",
       "    </tr>\n",
       "  </tbody>\n",
       "</table>\n",
       "<p>5 rows × 35 columns</p>\n",
       "</div>"
      ],
      "text/plain": [
       "       Cost      Meat  Uniformity     Salsa      Wrap   overall  Beef  Pico  \\\n",
       "0 -0.354733 -0.542106    0.687965  0.955789  0.108080  0.427646     1     1   \n",
       "1 -0.878739 -1.206906    0.687965  0.365796  0.926145 -0.725368     1     1   \n",
       "2 -1.493409 -1.524034    0.681981 -0.226181  0.801869 -0.815564     0     1   \n",
       "3 -1.356262 -0.144338    1.085921  0.395285  0.874033  0.112648     1     1   \n",
       "4 -0.304348  0.787495    1.585025 -0.814190  0.108080  1.004154     1     1   \n",
       "\n",
       "   Guac  Cheese    ...     Pineapple  Ham  Nopales  Lobster  Queso  Egg  \\\n",
       "0     1       1    ...             0    0        0        0      0    0   \n",
       "1     1       1    ...             0    0        0        0      0    0   \n",
       "2     1       0    ...             0    0        0        0      0    0   \n",
       "3     1       0    ...             0    0        0        0      0    0   \n",
       "4     0       1    ...             0    0        0        0      0    0   \n",
       "\n",
       "   Mushroom  Avocado  Corn  Zucchini  \n",
       "0         0        0     0         0  \n",
       "1         0        0     0         0  \n",
       "2         0        0     0         0  \n",
       "3         0        0     0         0  \n",
       "4         0        0     0         0  \n",
       "\n",
       "[5 rows x 35 columns]"
      ]
     },
     "execution_count": 5,
     "metadata": {},
     "output_type": "execute_result"
    }
   ],
   "source": [
    "ingredients = burrito[ingredient_names].applymap(fix_binaries)\n",
    "burrito = pd.concat([rankings, ingredients], axis=1).dropna()\n",
    "print(burrito.shape)\n",
    "burrito.head()"
   ]
  },
  {
   "cell_type": "markdown",
   "metadata": {},
   "source": [
    "Here, we train a model on the dataset as-is."
   ]
  },
  {
   "cell_type": "code",
   "execution_count": 6,
   "metadata": {},
   "outputs": [
    {
     "data": {
      "text/plain": [
       "DecisionTreeRegressor(criterion='mse', max_depth=None, max_features=None,\n",
       "           max_leaf_nodes=None, min_impurity_split=1e-07,\n",
       "           min_samples_leaf=1, min_samples_split=2,\n",
       "           min_weight_fraction_leaf=0.0, presort=False, random_state=None,\n",
       "           splitter='best')"
      ]
     },
     "execution_count": 6,
     "metadata": {},
     "output_type": "execute_result"
    }
   ],
   "source": [
    "x_train, x_test, t_train, t_test = train_test_split(\n",
    "    burrito[burrito.columns.difference(['overall'])], burrito['overall'], test_size=0.2\n",
    ")\n",
    "reg = DecisionTreeRegressor()\n",
    "reg.fit(x_train, t_train)"
   ]
  },
  {
   "cell_type": "markdown",
   "metadata": {},
   "source": [
    "The single most important predictor for the overall quality of a burrito is how tasty the meat is. The [uniformity of the burrito](https://medium.com/@luckyshirt/dear-guy-who-just-made-mt-burrito-fd08c0babb57) and salsa quality are the other notable features of good burritos."
   ]
  },
  {
   "cell_type": "code",
   "execution_count": 7,
   "metadata": {},
   "outputs": [
    {
     "name": "stdout",
     "output_type": "stream",
     "text": [
      "| feature       | coefficient   |\n",
      "| Meat          | 0.5467465698323 |\n",
      "| Salsa         | 0.1279211666636 |\n",
      "| Uniformity    | 0.1598099891451 |\n"
     ]
    }
   ],
   "source": [
    "row = \"| {:<13.13} | {:<13.13} |\"\n",
    "print(row.format('feature', 'coefficient'))\n",
    "important_features = np.where(reg.feature_importances_ > 0.1)[0]\n",
    "for index in important_features:\n",
    "    name = x_train.columns[index]\n",
    "    value = reg.feature_importances_[index]\n",
    "    print(row.format(name, value))\n",
    "    reference_score = reg.score(x_test, t_test)"
   ]
  },
  {
   "cell_type": "markdown",
   "metadata": {},
   "source": [
    "#### Impose MAR\n",
    "\n",
    "We're going to pretend that our causal model is that people who really enjoy a burrito get distracted and forget to fill out some survey data. We randomly choose one variable to strike out for each of the best upper tritile of burrito. This reduces our effective data size rather dramatically."
   ]
  },
  {
   "cell_type": "code",
   "execution_count": 8,
   "metadata": {},
   "outputs": [
    {
     "name": "stdout",
     "output_type": "stream",
     "text": [
      "(72, 35)\n"
     ]
    }
   ],
   "source": [
    "missing = burrito.copy()\n",
    "rows = missing[missing.overall > missing.overall.quantile(0.30)].index\n",
    "cols = np.random.choice(['Cost', 'Meat', 'Salsa', 'Uniformity'], rows.size)\n",
    "for row, col in zip(rows, cols):\n",
    "    missing.loc[row, col] = np.nan\n",
    "print(missing.dropna().shape)"
   ]
  },
  {
   "cell_type": "markdown",
   "metadata": {},
   "source": [
    "#### Diagnostics\n",
    "\n",
    "It looks like there is a very strong relationship between which values are missing and the overall score, so we can't use listwise deletion and get unbiased results."
   ]
  },
  {
   "cell_type": "code",
   "execution_count": 9,
   "metadata": {},
   "outputs": [],
   "source": [
    "missing['has_nulls'] = pd.isnull(missing).sum(axis=1)"
   ]
  },
  {
   "cell_type": "code",
   "execution_count": 10,
   "metadata": {},
   "outputs": [
    {
     "data": {
      "image/png": "[encoded data removed]",
      "text/plain": [
       "<matplotlib.figure.Figure at 0x114040d68>"
      ]
     },
     "metadata": {},
     "output_type": "display_data"
    }
   ],
   "source": [
    "correlations = missing.corr().sort_values('has_nulls')[['has_nulls']]\n",
    "ax = sns.barplot(x='index', y='has_nulls', \n",
    "                 data=correlations.dropna().drop('has_nulls', axis=0).reset_index())\n",
    "ax.set_xticklabels(ax.get_xticklabels(), rotation=-90)\n",
    "ax.set_xlabel('')\n",
    "ax.set_ylabel('correlation')\n",
    "ax.figure.savefig(os.path.join(img_dir, 'corr_with_null.png'))\n",
    "missing.drop('has_nulls', axis=1, inplace=True)\n"
   ]
  },
  {
   "cell_type": "markdown",
   "metadata": {},
   "source": [
    "#### Expectation Maximization\n",
    "\n",
    "Expectation maximization seems to do a pretty good job of recovering the importance of meat quality."
   ]
  },
  {
   "cell_type": "code",
   "execution_count": 11,
   "metadata": {},
   "outputs": [],
   "source": [
    "models = []\n",
    "em_scores = []\n",
    "for trial in range(5):\n",
    "    corrected = pd.DataFrame(em(missing.values), index=missing.index, columns=missing.columns)\n",
    "    x_train, x_test, t_train, t_test = train_test_split(\n",
    "        corrected[corrected.columns.difference(['overall'])], corrected['overall'], test_size=0.2\n",
    "    )\n",
    "    reg = DecisionTreeRegressor()\n",
    "    reg.fit(x_train, t_train)\n",
    "    models.append(reg)\n",
    "    em_scores.append(reg.score(x_test, t_test))"
   ]
  },
  {
   "cell_type": "code",
   "execution_count": 12,
   "metadata": {},
   "outputs": [
    {
     "name": "stdout",
     "output_type": "stream",
     "text": [
      "| trial    | feature       | coefficient   |\n",
      "| 0.0      | Cost          | 0.1233772472707 |\n",
      "| 0.0      | Meat          | 0.3509749216336 |\n",
      "| 0.0      | Salsa         | 0.172906121503 |\n",
      "| 0.0      | Uniformity    | 0.2004401831435 |\n",
      "| 1.0      | Meat          | 0.4681952583293 |\n",
      "| 1.0      | Salsa         | 0.2044018011272 |\n",
      "| 1.0      | Uniformity    | 0.1501092752929 |\n",
      "| 2.0      | Meat          | 0.4982581667982 |\n",
      "| 2.0      | Salsa         | 0.1499966354656 |\n",
      "| 3.0      | Cost          | 0.1071628052615 |\n",
      "| 3.0      | Meat          | 0.46939862557 |\n",
      "| 3.0      | Salsa         | 0.1461582825423 |\n",
      "| 4.0      | Cost          | 0.1059927494801 |\n",
      "| 4.0      | Meat          | 0.4063470376595 |\n",
      "| 4.0      | Salsa         | 0.2301317156804 |\n"
     ]
    }
   ],
   "source": [
    "row = \"| {:<8.8} | {:<13.13} | {:<13.13} |\"\n",
    "print(row.format('trial', 'feature', 'coefficient'))\n",
    "for trial, model in enumerate(models):\n",
    "    important_features = np.where(model.feature_importances_ > 0.1)[0]\n",
    "    for index in important_features:\n",
    "        name = x_train.columns[index]\n",
    "        value = model.feature_importances_[index]\n",
    "        print(row.format(float(trial), name, value))"
   ]
  },
  {
   "cell_type": "markdown",
   "metadata": {},
   "source": [
    "## Other strategies"
   ]
  },
  {
   "cell_type": "markdown",
   "metadata": {},
   "source": [
    "#### Listwise deletion\n",
    "\n",
    "Removing all the rows missing even a single data point leaves us unable to recover meat quality. To compensate, the model overestimates the importance of uniformity."
   ]
  },
  {
   "cell_type": "code",
   "execution_count": 13,
   "metadata": {},
   "outputs": [],
   "source": [
    "models = []\n",
    "del_scores = []\n",
    "for trial in range(5):\n",
    "    corrected = missing.dropna()\n",
    "    x_train, x_test, t_train, t_test = train_test_split(\n",
    "        corrected[corrected.columns.difference(['overall'])], corrected['overall'], test_size=0.2\n",
    "    )\n",
    "    reg = DecisionTreeRegressor()\n",
    "    reg.fit(x_train, t_train)\n",
    "    models.append(reg)\n",
    "    del_scores.append(reg.score(x_test, t_test))"
   ]
  },
  {
   "cell_type": "code",
   "execution_count": 14,
   "metadata": {},
   "outputs": [
    {
     "name": "stdout",
     "output_type": "stream",
     "text": [
      "| trial    | feature       | coefficient   |\n",
      "| 0.0      | Cost          | 0.1502548820601 |\n",
      "| 0.0      | Meat          | 0.4536617556504 |\n",
      "| 0.0      | Uniformity    | 0.2353820418929 |\n",
      "| 1.0      | Meat          | 0.2520525060179 |\n",
      "| 1.0      | Salsa         | 0.1506753411354 |\n",
      "| 1.0      | Uniformity    | 0.3983179274615 |\n",
      "| 2.0      | Meat          | 0.4346784529447 |\n",
      "| 2.0      | Salsa         | 0.1737677666632 |\n",
      "| 2.0      | Uniformity    | 0.2013873693526 |\n",
      "| 3.0      | Meat          | 0.3720938885797 |\n",
      "| 3.0      | Uniformity    | 0.2744444755015 |\n",
      "| 4.0      | Cost          | 0.1480756172615 |\n",
      "| 4.0      | Meat          | 0.210823285636 |\n",
      "| 4.0      | Salsa         | 0.1227358855073 |\n",
      "| 4.0      | Uniformity    | 0.3417543359187 |\n"
     ]
    }
   ],
   "source": [
    "row = \"| {:<8.8} | {:<13.13} | {:<13.13} |\"\n",
    "print(row.format('trial', 'feature', 'coefficient'))\n",
    "for trial, model in enumerate(models):\n",
    "    important_features = np.where(model.feature_importances_ > 0.1)[0]\n",
    "    for index in important_features:\n",
    "        name = x_train.columns[index]\n",
    "        value = model.feature_importances_[index]\n",
    "        print(row.format(float(trial), name, value))"
   ]
  },
  {
   "cell_type": "markdown",
   "metadata": {},
   "source": [
    "#### Single Imputation\n",
    "\n",
    "Again, we have difficulty (although not as pronounced) recovering the importance of meat quality. In this case, we primarily overestimate the importance of salsa to compensate."
   ]
  },
  {
   "cell_type": "code",
   "execution_count": 15,
   "metadata": {},
   "outputs": [],
   "source": [
    "models = []\n",
    "si_scores = []\n",
    "for trial in range(5):\n",
    "    x_train, x_test, t_train, t_test = train_test_split(\n",
    "        corrected[corrected.columns.difference(['overall'])], corrected['overall'], test_size=0.2\n",
    "    )\n",
    "    pipe = Pipeline([('imp', Imputer()), ('reg', DecisionTreeRegressor())])\n",
    "    pipe.fit(x_train, t_train)\n",
    "    models.append(pipe)\n",
    "    si_scores.append(pipe.score(x_test, t_test))"
   ]
  },
  {
   "cell_type": "code",
   "execution_count": 16,
   "metadata": {},
   "outputs": [
    {
     "name": "stdout",
     "output_type": "stream",
     "text": [
      "| trial    | feature       | coefficient   |\n",
      "| 0.0      | Meat          | 0.4258495054957 |\n",
      "| 0.0      | Salsa         | 0.1546073441618 |\n",
      "| 0.0      | Uniformity    | 0.2073710047007 |\n",
      "| 1.0      | Meat          | 0.4205471187883 |\n",
      "| 1.0      | Uniformity    | 0.180240896077 |\n",
      "| 2.0      | Meat          | 0.3540743640535 |\n",
      "| 2.0      | Salsa         | 0.3209893239437 |\n",
      "| 3.0      | Meat          | 0.2833254789775 |\n",
      "| 3.0      | Uniformity    | 0.3633248750129 |\n",
      "| 4.0      | Meat          | 0.3548152048424 |\n",
      "| 4.0      | Salsa         | 0.2731840427763 |\n",
      "| 4.0      | Uniformity    | 0.1078140312573 |\n"
     ]
    }
   ],
   "source": [
    "row = \"| {:<8.8} | {:<13.13} | {:<13.13} |\"\n",
    "print(row.format('trial', 'feature', 'coefficient'))\n",
    "for trial, pipe in enumerate(models):\n",
    "    model = pipe.named_steps['reg']\n",
    "    important_features = np.where(model.feature_importances_ > 0.1)[0]\n",
    "    for index in important_features:\n",
    "        name = x_train.columns[index]\n",
    "        value = model.feature_importances_[index]\n",
    "        print(row.format(float(trial), name, value))"
   ]
  },
  {
   "cell_type": "markdown",
   "metadata": {},
   "source": [
    "## Model comparison"
   ]
  },
  {
   "cell_type": "code",
   "execution_count": 17,
   "metadata": {},
   "outputs": [
    {
     "data": {
      "image/png": "[encoded data removed]",
      "text/plain": [
       "<matplotlib.figure.Figure at 0x118fc0cf8>"
      ]
     },
     "metadata": {},
     "output_type": "display_data"
    }
   ],
   "source": [
    "fig, grid = plt.subplots(1, 3)\n",
    "grid[0].boxplot(em_scores, sym='', showmeans=True)\n",
    "grid[1].boxplot(del_scores, sym='', showmeans=True)\n",
    "grid[2].boxplot(si_scores, sym='', showmeans=True)\n",
    "for ax, title in zip(grid, ['em', 'mean', 'deletion']):\n",
    "    ax.set_ylim(-3., 1.)\n",
    "    ax.axhline(reference_score, xmin=0, xmax=1)\n",
    "    ax.set_xlabel('')\n",
    "    ax.set_xticks([])\n",
    "    ax.set_title(title)\n",
    "grid[0].set_ylabel(\"change in score by strategy\")\n",
    "fig.tight_layout()\n",
    "fig.savefig(os.path.join(img_dir, 'case_study_comparison.png'))"
   ]
  },
  {
   "cell_type": "code",
   "execution_count": null,
   "metadata": {
    "collapsed": true
   },
   "outputs": [],
   "source": []
  }
 ],
 "metadata": {
  "kernelspec": {
   "display_name": "Python 3",
   "language": "python",
   "name": "python3"
  },
  "language_info": {
   "codemirror_mode": {
    "name": "ipython",
    "version": 3
   },
   "file_extension": ".py",
   "mimetype": "text/x-python",
   "name": "python",
   "nbconvert_exporter": "python",
   "pygments_lexer": "ipython3",
   "version": "3.5.4"
  }
 },
 "nbformat": 4,
 "nbformat_minor": 2
}
